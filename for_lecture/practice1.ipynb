{
 "cells": [
  {
   "cell_type": "markdown",
   "metadata": {
    "collapsed": true,
    "pycharm": {
     "name": "#%% md\n"
    }
   },
   "source": [
    "# **1. Numpy를 이용하여 Multi-Layer Perceptron 구현하기**\n",
    "목표 : numpy를 이용하여 logic gate 함수를 근사하는 2 layer Multilayer perceptron을 직접 구현해봅시다.\n",
    "\n",
    "---\n"
   ]
  },
  {
   "cell_type": "code",
   "execution_count": null,
   "outputs": [],
   "source": [
    "# -*- coding: utf-8 -*-\n",
    "import numpy as np\n",
    "\n",
    "# 활성화 함수로 사용할 계단 함수 입니다.\n",
    "def step(x): return np.array(x>0, dtype=np.int)\n",
    "\n",
    "# 인공적으로 입력과 출력 만들기 X : 입력 Y : 정답(label)\n",
    "# and 데이터입니다.\n",
    "X = np.array([[0, 0], [0, 1], [1, 0], [1, 1]])\n",
    "Y = np.array([[0], [1], [1], [1]])\n",
    "\n",
    "# 적절한 weight들을 결정합니다.\n",
    "W_layer_1 = np.array([[0.2 , 0.8, 0.1],\n",
    "                      [0.0, 0.2, 0.9]])\n",
    "W_layer_2 = np.array([[0.4],[0.4],[0.09]])\n",
    "\n",
    "\n",
    "# 순전파\n",
    "layer_1_output = step(np.dot(X, W_layer_1)) # layer 1\n",
    "layer_2_output = step(np.dot(layer_1_output, W_layer_2)) # layer 2\n",
    "   \n",
    "# 학습종료 후 결과물 확인 (optional)\n",
    "print(\"Input is\")\n",
    "print(X)\n",
    "print(\"expected output is\")\n",
    "print(Y)\n",
    "print(\"actual output is \")\n",
    "print(layer_2_output)"
   ],
   "metadata": {
    "collapsed": false,
    "pycharm": {
     "name": "#%%\n"
    }
   }
  }
 ],
 "metadata": {
  "kernelspec": {
   "display_name": "Python 3",
   "language": "python",
   "name": "python3"
  },
  "language_info": {
   "codemirror_mode": {
    "name": "ipython",
    "version": 2
   },
   "file_extension": ".py",
   "mimetype": "text/x-python",
   "name": "python",
   "nbconvert_exporter": "python",
   "pygments_lexer": "ipython2",
   "version": "2.7.6"
  },
  "pycharm": {
   "stem_cell": {
    "cell_type": "raw",
    "source": [],
    "metadata": {
     "collapsed": false
    }
   }
  }
 },
 "nbformat": 4,
 "nbformat_minor": 0
}