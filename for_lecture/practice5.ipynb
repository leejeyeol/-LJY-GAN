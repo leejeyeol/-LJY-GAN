{
 "cells": [
  {
   "cell_type": "markdown",
   "metadata": {
    "collapsed": true,
    "pycharm": {
     "name": "#%% md\n"
    }
   },
   "source": [
    "# **5. Pytorch를 이용한 xor 구현**\n",
    "\n",
    "목표 : 라이브러리 pytorch를 이용하여 그동안 했던 xor 신경망을 구현해봅시다.\n",
    "---"
   ]
  },
  {
   "cell_type": "code",
   "execution_count": null,
   "outputs": [],
   "source": [
    "import torch\n",
    "import torch.utils.data\n",
    "import torch.nn as nn\n",
    "import torch.optim as optim\n",
    "import matplotlib.pyplot as plt\n",
    "\n",
    "# 가중치 초기화 함수\n",
    "def weight_init(m):\n",
    "    classname = m.__class__.__name__\n",
    "    # m에서 classname이 Linear(신경망 레이어)인 경우\n",
    "    if classname.find('Linear') != -1:\n",
    "        # weight를 uniform distribution을 이용하여 초기화하고 bias는 0으로 초기화\n",
    "        m.weight.data.uniform_(0.0, 1.0)\n",
    "        m.bias.data.fill_(0)\n",
    "\n",
    "# Xor data를 만들고 모델에 넣어줄 데이터로더. torch.utils.data.Dataset를 상속받고 __len__과 __getitem__을 선언해준다.\n",
    "class xor_dataloader(torch.utils.data.Dataset):\n",
    "    # 신경망 학습 중 신경망에 데이터를 공급해주는 dataloader 정의\n",
    "    def __init__(self):\n",
    "        super().__init__()\n",
    "        # 외부 파일을 이용할 경우 여기서 파일을 읽거나 파일들의 경로를 찾음\n",
    "        self.input = torch.Tensor([[0, 0], [0, 1], [1, 0], [1, 1]])\n",
    "        self.target = torch.Tensor([[0], [1], [1], [0]])\n",
    "\n",
    "    def __len__(self):\n",
    "        # dataloder로 기능하기위해 선언 필요.\n",
    "        # 데이터의 총 개수가 출력되도록 함\n",
    "        return len(self.input)\n",
    "\n",
    "    def __getitem__(self, item):\n",
    "        # dataloader에 데이터를 요청하였을 때 다음 데이터를 제공.\n",
    "        X = self.input[item]\n",
    "        t = self.target[item]\n",
    "        return X, t\n",
    "\n",
    "\n",
    "# pytorch의 네트워크 클래스. nn.Module을 상속받고 모델 구조를 정의한 후 forward 메서드를 정의해준다.\n",
    "class TwoLayerNet_pytorch(nn.Module):\n",
    "  def __init__(self, input_size, hidden_size, output_size):\n",
    "    super().__init__()\n",
    "    self.input_size = input_size\n",
    "    self.hidden_size = hidden_size\n",
    "    self.output_size = output_size\n",
    "\n",
    "    self.network1 = nn.Sequential(\n",
    "        nn.Linear(self.input_size, self.hidden_size),\n",
    "        nn.Sigmoid(),\n",
    "        nn.Linear(self.hidden_size, self.output_size),\n",
    "        nn.Sigmoid()\n",
    "    )\n",
    "  def forward(self, x):\n",
    "    y = self.network1(x)\n",
    "    return y\n",
    "\n",
    "# hyperparameter 선언\n",
    "epochs = 20000\n",
    "learning_rate = 0.1\n",
    "\n",
    "net = TwoLayerNet_pytorch(input_size=2, hidden_size=3, output_size=1) # 모델을 인스턴스로 만듦.\n",
    "net.apply(weight_init) # 만들어진 모델 인스턴스에 weight 초기화 함수를 수행\n",
    "optimizer = optim.SGD(net.parameters(), lr=learning_rate) # optimizer 선언.\n",
    "dataloader = torch.utils.data.DataLoader(xor_dataloader(), batch_size=4) # dataloader 선언.\n",
    "\n",
    "MSE = nn.MSELoss() # loss function 선언.\n",
    "\n",
    "train_loss_list = [] # 결과 출력을 위한 코드\n",
    "for epoch in range(epochs):\n",
    "    for i, (X, t) in enumerate(dataloader,0):\n",
    "        # 순전파\n",
    "        Y = net(X)\n",
    "        loss = MSE(Y, t)\n",
    "\n",
    "        train_loss_list.append(loss) # 결과 출력을 위한 코드\n",
    "         \n",
    "        optimizer.zero_grad()  # optimizer의 gradient 텐서들을 초기화\n",
    "        loss.backward() # backpropagation 수행. 각 weight에 대한 gradient 계산\n",
    "        optimizer.step() # weight 갱신\n",
    "\n",
    "# 학습종료 후 결과물 확인 (optional)\n",
    "print(\"Input is\")\n",
    "print(X)\n",
    "print(\"expected output is\")\n",
    "print(t)\n",
    "print(\"actual output is \")\n",
    "print(Y)\n",
    "plt.plot(train_loss_list)"
   ],
   "metadata": {
    "collapsed": false,
    "pycharm": {
     "name": "#%%\n"
    }
   }
  }
 ],
 "metadata": {
  "kernelspec": {
   "display_name": "Python 3",
   "language": "python",
   "name": "python3"
  },
  "language_info": {
   "codemirror_mode": {
    "name": "ipython",
    "version": 2
   },
   "file_extension": ".py",
   "mimetype": "text/x-python",
   "name": "python",
   "nbconvert_exporter": "python",
   "pygments_lexer": "ipython2",
   "version": "2.7.6"
  },
  "pycharm": {
   "stem_cell": {
    "cell_type": "raw",
    "source": [],
    "metadata": {
     "collapsed": false
    }
   }
  }
 },
 "nbformat": 4,
 "nbformat_minor": 0
}