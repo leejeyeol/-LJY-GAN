{
 "cells": [
  {
   "cell_type": "markdown",
   "metadata": {
    "collapsed": true,
    "pycharm": {
     "name": "#%% md\n"
    }
   },
   "source": [
    "\n",
    "# **6. Pytorch를 이용한 MNIST classifier 구현**\n",
    "\n",
    "목표 : 라이브러리 pytorch를 이용하여 MNIST 데이터를 분류하는 분류기를 구현해봅시다.\n",
    "---\n",
    "\n",
    "normalization 전처리를 주석처리했습니다.\n",
    "이 부분을 풀고 학습해보세요.\n",
    "\n",
    "\n"
   ]
  },
  {
   "cell_type": "code",
   "execution_count": null,
   "outputs": [],
   "source": [
    "import torch\n",
    "import torch.utils.data\n",
    "import torch.nn as nn\n",
    "import torch.optim as optim\n",
    "from torchvision import datasets, transforms\n",
    "import matplotlib.pyplot as plt\n",
    "\n",
    "def one_hot_embedding(labels, num_classes):\n",
    "    # 단일 라벨 텐서를 원핫 벡터로 바꿔줍니다.\n",
    "    y = torch.eye(num_classes)\n",
    "    one_hot = y[labels]\n",
    "    return one_hot\n",
    "\n",
    "def softmax_to_one_hot(tensor):\n",
    "    # softmax 결과를 가장 높은 값이 1이 되도록 하여 원핫 벡터로 바꿔줍니다. acuuracy 구할 때 씁니다.\n",
    "    max_idx = torch.argmax(tensor, 1, keepdim=True)\n",
    "    if tensor.is_cuda :\n",
    "        one_hot = torch.zeros(tensor.shape).cuda()\n",
    "    else:\n",
    "        one_hot = torch.zeros(tensor.shape)\n",
    "    one_hot.scatter_(1, max_idx, 1)\n",
    "    return one_hot\n",
    "\n",
    "def weight_init(m):\n",
    "    classname = m.__class__.__name__\n",
    "    # m에서 classname이 Linear(신경망 레이어)인 경우\n",
    "    if classname.find('Linear') != -1:\n",
    "        # weight를 uniform distribution을 이용하여 초기화하고 bias는 0으로 초기화\n",
    "        m.weight.data.uniform_(0.0, 1.0)\n",
    "        m.bias.data.fill_(0)\n",
    "\n",
    "\n",
    "class TwoLayerNet_pytorch(nn.Module):\n",
    "  def __init__(self, input_size, hidden_size, output_size):\n",
    "    super().__init__()\n",
    "    self.input_size = input_size\n",
    "    self.hidden_size = hidden_size\n",
    "    self.output_size = output_size\n",
    "\n",
    "    self.network1 = nn.Sequential(\n",
    "        nn.Linear(self.input_size, self.hidden_size),\n",
    "        nn.Sigmoid(),\n",
    "        nn.Linear(self.hidden_size, self.output_size),\n",
    "        nn.Softmax()\n",
    "    )\n",
    "  def forward(self, x):\n",
    "    y = self.network1(x)\n",
    "    return y\n",
    "\n",
    "epochs = 5\n",
    "learning_rate = 0.01\n",
    "batch_size = 100\n",
    "loss_function = nn.BCELoss()\n",
    "\n",
    "train_loader = torch.utils.data.DataLoader(\n",
    "    datasets.MNIST('../data', train=True, download=True,\n",
    "                   transform=transforms.Compose([\n",
    "                       transforms.ToTensor()\n",
    "                       #,transforms.Normalize((0.1307,), (0.3081,)) # 한번 돌려본 후, 돌아가는것을 확인했다면 이 주석을 지우세요.\n",
    "                   ])),\n",
    "    batch_size=batch_size, shuffle=True)\n",
    "\n",
    "test_loader = torch.utils.data.DataLoader(\n",
    "    datasets.MNIST('../data', train=False, download=True,\n",
    "                   transform=transforms.Compose([\n",
    "                       transforms.ToTensor()\n",
    "                       #,transforms.Normalize((0.1307,), (0.3081,)) # 한번 돌려본 후, 돌아가는것을 확인했다면 이 주석을 지우세요.\n",
    "                   ])),\n",
    "    batch_size=batch_size, shuffle=True)\n",
    "\n",
    "\n",
    "\n",
    "net = TwoLayerNet_pytorch(input_size=784, hidden_size=50, output_size=10)\n",
    "net.apply(weight_init)\n",
    "\n",
    "optimizer = optim.SGD(net.parameters(), lr=learning_rate)\n",
    "\n",
    "train_loss_list = [] # 결과 출력을 위한 코드\n",
    "net.train() # 학습할것을 명시하여 자원낭비를 줄이는 코드\n",
    "for epoch in range(epochs):\n",
    "    for i, (X, t) in enumerate(train_loader):\n",
    "        X = X.view(-1, 784) # 1 x 28 x 28 형태임으로, 784 형태의 벡터로 바꿔준다.\n",
    "        t = one_hot_embedding(t, 10) # 숫자로 출력됨으로 원핫코드로 바꿔준다.\n",
    "\n",
    "        # 순전파\n",
    "        Y = net(X)\n",
    "        loss = loss_function(Y, t)\n",
    "\n",
    "        train_loss_list.append(loss) # 결과 출력을 위한 코드\n",
    "        optimizer.zero_grad()\n",
    "        loss.backward()\n",
    "        optimizer.step()\n",
    "        print(\"[%d/%d][%d/%d] loss : %f\"%(i,len(train_loader),epoch,epochs, loss))\n",
    "\n",
    "print(\"calculating accuracy...\")\n",
    "net.eval() # 학습하지 않을 것을 명시하여 자원낭비를 줄이는 코드\n",
    "\n",
    "correct = 0\n",
    "with torch.no_grad():\n",
    "    for i, (X, t) in enumerate(test_loader):\n",
    "        X = X.view(-1, 784)\n",
    "        t = one_hot_embedding(t, 10)\n",
    "        Y = net(X)\n",
    "\n",
    "        onehot_y= softmax_to_one_hot(Y) \n",
    "        correct += int(torch.sum(onehot_y * t)) # testset에서 정답을 맞춘 횟수 저장\n",
    "print(\"Accuracy : %f\" % (100. * correct / len(test_loader.dataset)))\n",
    "plt.plot(train_loss_list)"
   ],
   "metadata": {
    "collapsed": false,
    "pycharm": {
     "name": "#%%\n"
    }
   }
  }
 ],
 "metadata": {
  "kernelspec": {
   "display_name": "Python 3",
   "language": "python",
   "name": "python3"
  },
  "language_info": {
   "codemirror_mode": {
    "name": "ipython",
    "version": 2
   },
   "file_extension": ".py",
   "mimetype": "text/x-python",
   "name": "python",
   "nbconvert_exporter": "python",
   "pygments_lexer": "ipython2",
   "version": "2.7.6"
  },
  "pycharm": {
   "stem_cell": {
    "cell_type": "raw",
    "source": [],
    "metadata": {
     "collapsed": false
    }
   }
  }
 },
 "nbformat": 4,
 "nbformat_minor": 0
}