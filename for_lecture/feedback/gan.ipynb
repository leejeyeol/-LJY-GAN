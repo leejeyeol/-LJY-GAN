{
  "nbformat": 4,
  "nbformat_minor": 0,
  "metadata": {
    "colab": {
      "name": "gan.ipynb",
      "provenance": [],
      "collapsed_sections": []
    },
    "kernelspec": {
      "name": "python3",
      "display_name": "Python 3"
    },
    "accelerator": "GPU"
  },
  "cells": [
    {
      "cell_type": "markdown",
      "metadata": {
        "id": "-e6kHAMxxRH4",
        "colab_type": "text"
      },
      "source": [
        "## GAN을 통해 진짜같은 숫자생성 모델을 만들어 보자\n",
        "\n",
        "첫째로 생성모델(Generator)과 식별모델(Disciminator)를 만들어 보자.\n",
        "\n",
        "두번째로는 연속적으로 생성하고, 식별할 수 있도록 만든다.\n"
      ]
    },
    {
      "cell_type": "code",
      "metadata": {
        "id": "wdjWoEbIxFBh",
        "colab_type": "code",
        "colab": {}
      },
      "source": [
        "import torch\n",
        "import torch.nn as nn\n",
        "import torch.optim as optim\n",
        "import torchvision.utils as utils\n",
        "import torchvision.datasets as dsets\n",
        "import torchvision.transforms as transforms\n",
        "\n",
        "is_cuda = torch.cuda.is_available\n",
        "device = torch.device('cuda' if is_cuda else 'cpu')"
      ],
      "execution_count": 0,
      "outputs": []
    },
    {
      "cell_type": "markdown",
      "metadata": {
        "id": "_iCy05g40Lsq",
        "colab_type": "text"
      },
      "source": [
        "# Data Loader 생성 단계\n",
        "\n"
      ]
    },
    {
      "cell_type": "code",
      "metadata": {
        "id": "q4GPlT5sx3WU",
        "colab_type": "code",
        "colab": {}
      },
      "source": [
        "# standardization = transforms.Compose([\n",
        "#                                       transforms.ToTensor(),\n",
        "#                                       transforms.Normalize(mean=(0.5, 0.5, 0.5),\n",
        "#                                                            std=(0.5, 0.5, 0.5))])\n",
        "\n",
        "standardization = transforms.Compose([\n",
        "                                      transforms.ToTensor(),\n",
        "                                      transforms.Normalize([0.5],[0.5])])\n",
        "\n",
        "# MNIST DATASET\n",
        "train_data = dsets.MNIST(root='data/', train=True, transform=standardization, download=True)\n",
        "test_data = dsets.MNIST(root='data/', train=False, transform=standardization, download=True)\n",
        "\n",
        "batch_size=200\n",
        "train_data_loader = torch.utils.data.DataLoader(train_data, batch_size, shuffle=True)\n",
        "test_data_loader = torch.utils.data.DataLoader(test_data, batch_size, shuffle=True)\n",
        "\n",
        "\n",
        "\n",
        "\n",
        "\n"
      ],
      "execution_count": 0,
      "outputs": []
    },
    {
      "cell_type": "markdown",
      "metadata": {
        "id": "xIENnwP54GcX",
        "colab_type": "text"
      },
      "source": [
        "# 한개의 미니배치를 뽑아서 이미지 확인하기\n",
        "\n"
      ]
    },
    {
      "cell_type": "code",
      "metadata": {
        "id": "PjL9f-Yu0ExQ",
        "colab_type": "code",
        "colab": {}
      },
      "source": [
        "import numpy as np\n",
        "from matplotlib import pyplot as plt\n",
        "\n",
        "def imshow(img):\n",
        "  img=(img+1)/2\n",
        "  img=img.squeeze()\n",
        "  np_img = img.numpy()\n",
        "  plt.imshow(np_img, cmap=\"gray\")\n",
        "  plt.show()\n",
        "\n",
        "def imshow_grid(img):\n",
        "  img = utils.make_grid(img.cpu().detach())\n",
        "  img = (img+1)/2\n",
        "  npimg = img.numpy()\n",
        "  plt.imshow(np.transpose(npimg, (1,2,0)))\n",
        "  plt.show()\n",
        "\n",
        "example_mini_batch_img, example_mini_batch_label = next(iter(train_data_loader))\n",
        "imshow_grid(example_mini_batch_img[0:16, :, :])"
      ],
      "execution_count": 0,
      "outputs": []
    },
    {
      "cell_type": "markdown",
      "metadata": {
        "id": "dWLNKzp_9BtA",
        "colab_type": "text"
      },
      "source": [
        ""
      ]
    },
    {
      "cell_type": "markdown",
      "metadata": {
        "id": "doGF72wH9B7s",
        "colab_type": "text"
      },
      "source": [
        "# 생성기(Generator) 구현하기"
      ]
    },
    {
      "cell_type": "code",
      "metadata": {
        "id": "x_nwVcwk0E00",
        "colab_type": "code",
        "colab": {}
      },
      "source": [
        "d_noise = 100\n",
        "d_hidden = 256\n",
        "\n",
        "def sample_z(batch_size=1, d_noise=d_noise):\n",
        "  return torch.randn(batch_size, d_noise, device=device)\n",
        "\n",
        "G = nn.Sequential(\n",
        "    nn.Linear(d_noise, d_hidden),\n",
        "    nn.ReLU(),\n",
        "    nn.Dropout(0.1),\n",
        "    nn.Linear(d_hidden, d_hidden),\n",
        "    nn.ReLU(),\n",
        "    nn.Dropout(0.1),\n",
        "    nn.Linear(d_hidden, 28*28),\n",
        "    nn.Tanh()\n",
        ").to(device)\n",
        "\n",
        "# 노이즈 생성하기\n",
        "z = sample_z()\n",
        "\n",
        "# 가짜 이미지 생성하고 출력하기\n",
        "img_fake = G(z).view(-1, 28, 28)\n",
        "imshow(img_fake.squeeze().cpu().detach())\n",
        "\n",
        "# Batch size 만큼 생성하고 출력하기\n",
        "z = sample_z(batch_size)\n",
        "img_fake = G(z)\n",
        "imshow_grid(img_fake)\n",
        "\n",
        "\n",
        "\n",
        "\n"
      ],
      "execution_count": 0,
      "outputs": []
    },
    {
      "cell_type": "markdown",
      "metadata": {
        "id": "2eO7sZhL_HuP",
        "colab_type": "text"
      },
      "source": [
        "#판별기(Discrimintor) 생성"
      ]
    },
    {
      "cell_type": "code",
      "metadata": {
        "id": "q6lyOoBz0E4I",
        "colab_type": "code",
        "outputId": "5e7f796e-de14-415a-d3ff-65fd7b16471b",
        "colab": {
          "base_uri": "https://localhost:8080/",
          "height": 87
        }
      },
      "source": [
        " D=nn.Sequential(\n",
        "     nn.Linear(28*28, d_hidden),\n",
        "     nn.LeakyReLU(),\n",
        "     nn.Dropout(0.1),\n",
        "     nn.Linear(d_hidden, d_hidden),\n",
        "     nn.LeakyReLU(),\n",
        "     nn.Dropout(0.1),\n",
        "     nn.Linear(d_hidden, 1),\n",
        "     nn.Sigmoid()\n",
        " ).to(device)\n",
        "\n",
        " print(G(z).shape)\n",
        " print(D(G(z)).shape)\n",
        " print(D(G(z)[0:5]).transpose(0, 1))"
      ],
      "execution_count": 0,
      "outputs": [
        {
          "output_type": "stream",
          "text": [
            "torch.Size([200, 784])\n",
            "torch.Size([200, 1])\n",
            "tensor([[0.4968, 0.4951, 0.4918, 0.4952, 0.4969]], device='cuda:0',\n",
            "       grad_fn=<TransposeBackward0>)\n"
          ],
          "name": "stdout"
        }
      ]
    },
    {
      "cell_type": "markdown",
      "metadata": {
        "id": "TcROSQ5CCOtk",
        "colab_type": "text"
      },
      "source": [
        ""
      ]
    },
    {
      "cell_type": "markdown",
      "metadata": {
        "id": "8iysHJSeCPAy",
        "colab_type": "text"
      },
      "source": [
        "# GAN 훈련시키기"
      ]
    },
    {
      "cell_type": "code",
      "metadata": {
        "id": "-NOiQFt2AbiS",
        "colab_type": "code",
        "colab": {}
      },
      "source": [
        "# criterion = nn.BCELoss\n",
        "\n",
        "# def run_epoch(generator, discriminator, _optimizer_g, _optimizer_d):\n",
        "#   generator.train()\n",
        "#   discriminator.train()\n",
        "\n",
        "#   for img_batch, label_batch in train_data_loader:\n",
        "#     img_batch, label_batch = img_batch.to(device), label_batch.to(device)\n",
        "\n",
        "#     # optimize 초기화\n",
        "#     _optimizer_d.zero_grad()\n",
        "\n",
        "#     p_real = discriminator(img_batch.view(-1, 28*28))\n",
        "#     p_fake = discriminator(generator(sample_z(batch_size, d_noise)))\n",
        "\n",
        "#     loss_real = -1*torch.log(p_real)\n",
        "#     loss_fake = -1*torch.log(1.-p_fake)\n",
        "#     loss_d = (loss_real + loss_fake).mean\n",
        "\n",
        "#     loss_d.backward() \n",
        "#     _optimizer_d.step()\n",
        "\n",
        "\n",
        "\n",
        "#     _optimizer_g.zero_grad()\n",
        "\n",
        "#     p_fake = discriminator(generator(sample_z(batch_size, d_noise)))\n",
        "\n",
        "#     loss_g = -1*torch.log(p_fake).mean()\n",
        "\n",
        "#     loss_g.backward()\n",
        "#     _optimizer_g.step()\n",
        "\n",
        "\n",
        "\n",
        "# def evaluate_model(generator, discriminator):\n",
        "#   p_real, p_fake=0., 0.\n",
        "\n",
        "#   generator.eval()\n",
        "#   discriminator.eval()\n",
        "\n",
        "#   for img_batch, label_batch in test_data_loader:\n",
        "#     img_batch, label_batch = img_batch.to(device), label_batch.to(device)\n",
        "\n",
        "#     with torch.autograd.no_grad():\n",
        "#       p_real += (torch.sum(discriminator(img_batch.view(-1, 28*28))).item())/10000.\n",
        "#       p_fake += (touch.sum(discriminator(generator(sample_z(batch_size, d_noise)))).item())/10000.\n",
        "#   return p_real, p_fake\n",
        "\n",
        "criterion = nn.BCELoss()\n",
        "\n",
        "def run_epoch(generator, discriminator, _optimizer_g, _optimizer_d):\n",
        "    \n",
        "    generator.train()\n",
        "    discriminator.train()\n",
        "\n",
        "    for img_batch, label_batch in train_data_loader:\n",
        "        \n",
        "        img_batch, label_batch = img_batch.to(device), label_batch.to(device) \n",
        "\n",
        "        # ================================================  #\n",
        "        # maximize V(discriminator,generator) = optimize discriminator (setting k to be 1)  #\n",
        "        # ================================================  #\n",
        "\n",
        "        # init optimizer\n",
        "        _optimizer_d.zero_grad()\n",
        "\n",
        "        p_real = discriminator(img_batch.view(-1, 28*28))\n",
        "        p_fake = discriminator(generator(sample_z(batch_size, d_noise)))\n",
        "\n",
        "        # ================================================  #\n",
        "        #    Loss computation (soley based on the paper)    #\n",
        "        # ================================================  #\n",
        "        loss_real = -1 * torch.log(p_real)   # -1 for gradient ascending\n",
        "        loss_fake = -1 * torch.log(1.-p_fake) # -1 for gradient ascending\n",
        "        loss_d    = (loss_real + loss_fake).mean()\n",
        "        \n",
        "        # ================================================  #\n",
        "        #     Loss computation (based on Cross Entropy)     #\n",
        "        # ================================================  #\n",
        "        # loss_d = criterion(p_real, torch.ones_like(p_real).to(device)) + \\    #\n",
        "        #          criterion(p_fake, torch.zeros_like(p_real).to(device))       #\n",
        "        \n",
        "        # Update parameters\n",
        "        loss_d.backward()\n",
        "        _optimizer_d.step()\n",
        "\n",
        "        # ================================================  #\n",
        "        #        minimize V(discriminator,generator)        #\n",
        "        # ================================================  #\n",
        "\n",
        "        # init optimizer\n",
        "        _optimizer_g.zero_grad()\n",
        "\n",
        "        p_fake = discriminator(generator(sample_z(batch_size, d_noise)))\n",
        "                \n",
        "        # ================================================  #\n",
        "        #    Loss computation (soley based on the paper)    #\n",
        "        # ================================================  #\n",
        "        \n",
        "        # instead of: torch.log(1.-p_fake).mean() <- explained in Section 3\n",
        "        loss_g = -1 * torch.log(p_fake).mean() \n",
        "\n",
        "        # ================================================  #\n",
        "        #     Loss computation (based on Cross Entropy)     #\n",
        "        # ================================================  #\n",
        "        # loss_g = criterion(p_fake, torch.ones_like(p_fake).to(device)) #\n",
        "\n",
        "        loss_g.backward()\n",
        "   \n",
        "        # Update parameters\n",
        "        _optimizer_g.step()\n",
        "          \n",
        "def evaluate_model(generator, discriminator):\n",
        "    \n",
        "    p_real, p_fake = 0.,0.\n",
        "    \n",
        "    generator.eval()\n",
        "    discriminator.eval()\n",
        "        \n",
        "    for img_batch, label_batch in test_data_loader:\n",
        "        \n",
        "        img_batch, label_batch = img_batch.to(device), label_batch.to(device) \n",
        "        \n",
        "        with torch.autograd.no_grad():\n",
        "            p_real += (torch.sum(discriminator(img_batch.view(-1, 28*28))).item())/10000.\n",
        "            p_fake += (torch.sum(discriminator(generator(sample_z(batch_size, d_noise)))).item())/10000.\n",
        "            \n",
        "            \n",
        "    return p_real, p_fake"
      ],
      "execution_count": 0,
      "outputs": []
    },
    {
      "cell_type": "code",
      "metadata": {
        "id": "WfZ9wZtpBUvo",
        "colab_type": "code",
        "outputId": "d7431429-f7ab-49d7-f6f9-36a07e706a96",
        "colab": {
          "base_uri": "https://localhost:8080/",
          "height": 430
        }
      },
      "source": [
        "def init_params(model):\n",
        "    for p in model.parameters():\n",
        "        if(p.dim() > 1):\n",
        "            nn.init.xavier_normal_(p)\n",
        "        else:\n",
        "            nn.init.uniform_(p, 0.1, 0.2)\n",
        "\n",
        "init_params(G)\n",
        "init_params(D)\n",
        "\n",
        "optimizer_g = optim.Adam(G.parameters(), lr = 0.0002)\n",
        "optimizer_d = optim.Adam(D.parameters(), lr = 0.0002)\n",
        "\n",
        "p_real_trace = []\n",
        "p_fake_trace = []\n",
        "\n",
        "for epoch in range(200):\n",
        "    \n",
        "    run_epoch(G, D, optimizer_g, optimizer_d)\n",
        "    p_real, p_fake = evaluate_model(G,D)\n",
        "    \n",
        "    p_real_trace.append(p_real)\n",
        "    p_fake_trace.append(p_fake) \n",
        "    \n",
        "    if((epoch+1)% 50 == 0):\n",
        "        print('(epoch %i/200) p_real: %f, p_g: %f' % (epoch+1, p_real, p_fake))\n",
        "        imshow_grid(G(sample_z(16)).view(-1, 1, 28, 28))"
      ],
      "execution_count": 0,
      "outputs": [
        {
          "output_type": "stream",
          "text": [
            "(epoch 50/200) p_real: 0.781035, p_g: 0.198068\n"
          ],
          "name": "stdout"
        },
        {
          "output_type": "display_data",
          "data": {
            "image/png": "[encoded data removed]",
            "text/plain": [
              "<Figure size 432x288 with 1 Axes>"
            ]
          },
          "metadata": {
            "tags": []
          }
        },
        {
          "output_type": "stream",
          "text": [
            "(epoch 100/200) p_real: 0.688492, p_g: 0.316366\n"
          ],
          "name": "stdout"
        },
        {
          "output_type": "display_data",
          "data": {
            "image/png": "[encoded data removed]",
            "text/plain": [
              "<Figure size 432x288 with 1 Axes>"
            ]
          },
          "metadata": {
            "tags": []
          }
        },
        {
          "output_type": "stream",
          "text": [
            "(epoch 150/200) p_real: 0.657043, p_g: 0.315440\n"
          ],
          "name": "stdout"
        },
        {
          "output_type": "display_data",
          "data": {
            "image/png": "[encoded data removed]",
            "text/plain": [
              "<Figure size 432x288 with 1 Axes>"
            ]
          },
          "metadata": {
            "tags": []
          }
        }
      ]
    },
    {
      "cell_type": "code",
      "metadata": {
        "id": "e0E4z_LqJkv9",
        "colab_type": "code",
        "colab": {}
      },
      "source": [
        ""
      ],
      "execution_count": 0,
      "outputs": []
    }
  ]
}