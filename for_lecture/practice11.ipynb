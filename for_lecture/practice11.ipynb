{
 "cells": [
  {
   "cell_type": "markdown",
   "metadata": {
    "collapsed": true,
    "pycharm": {
     "name": "#%% md\n"
    }
   },
   "source": [
    "# **11. fcn과 cnn의 weight 개수 비교**\n",
    "\n",
    "---"
   ]
  },
  {
   "cell_type": "code",
   "execution_count": null,
   "outputs": [],
   "source": [
    "import torch.nn as nn\n",
    "import numpy as np\n",
    "\n",
    "class MNIST_classifier_FCN(nn.Module):\n",
    "    def __init__(self, input_size, hidden_size, output_size):\n",
    "        super().__init__()\n",
    "        self.input_size = input_size\n",
    "        self.hidden_size = hidden_size\n",
    "        self.output_size = output_size\n",
    "\n",
    "        self.network1 = nn.Sequential(\n",
    "            nn.Linear(self.input_size, self.hidden_size),\n",
    "            nn.Sigmoid(),\n",
    "            nn.Linear(self.hidden_size, self.output_size),\n",
    "            nn.Softmax()\n",
    "        )\n",
    "\n",
    "    def forward(self, x):\n",
    "        y = self.network1(x)\n",
    "        return y\n",
    "\n",
    "\n",
    "class MNIST_classifier_CNN(nn.Module):\n",
    "    def __init__(self, class_num):\n",
    "        super().__init__()\n",
    "        self.class_num = class_num\n",
    "\n",
    "        self.conv_net = nn.Sequential(\n",
    "        nn.Conv2d(in_channels=1, out_channels=10, kernel_size=5),\n",
    "        nn.BatchNorm2d(10),\n",
    "        nn.MaxPool2d(2),\n",
    "        nn.ReLU(), \n",
    "\n",
    "        nn.Conv2d(in_channels=10, out_channels=20, kernel_size=5),\n",
    "        nn.BatchNorm2d(20),\n",
    "        nn.MaxPool2d(2),\n",
    "        nn.ReLU()\n",
    "        )\n",
    "        self.fc_net = nn.Sequential(\n",
    "            nn.Linear(320, 50),\n",
    "            nn.BatchNorm1d(50),\n",
    "            nn.ReLU(),\n",
    "            nn.Linear(50, self.class_num),\n",
    "            nn.Softmax()\n",
    "        )\n",
    "\n",
    "    def forward(self, x):\n",
    "        feature = self.conv_net(x)\n",
    "        feature = feature.view(-1, 320)\n",
    "        y = self.fc_net(feature)\n",
    "        return y\n",
    "\n",
    "fc_net = MNIST_classifier_FCN(input_size=784, hidden_size=50, output_size=10)\n",
    "conv_net = MNIST_classifier_CNN(class_num=10)\n",
    "\n",
    "print(\"fc_net's parameters\")\n",
    "fc_num_weight = 0\n",
    "for parameter in fc_net.parameters():\n",
    "    print(parameter.shape)\n",
    "    fc_num_weight+=np.asarray(parameter.shape).prod()\n",
    "\n",
    "\n",
    "print(\"conv_net's parameters\")\n",
    "conv_num_weight = 0\n",
    "for parameter in conv_net.parameters():\n",
    "    print(parameter.shape)\n",
    "    conv_num_weight+=np.asarray(parameter.shape).prod()\n",
    "\n",
    "print(\"The number of fc_net's parameters\")\n",
    "print(fc_num_weight)\n",
    "\n",
    "print(\"The number of conv_net's parameters\")\n",
    "print(conv_num_weight)\n"
   ],
   "metadata": {
    "collapsed": false,
    "pycharm": {
     "name": "#%%\n"
    }
   }
  }
 ],
 "metadata": {
  "kernelspec": {
   "display_name": "Python 3",
   "language": "python",
   "name": "python3"
  },
  "language_info": {
   "codemirror_mode": {
    "name": "ipython",
    "version": 2
   },
   "file_extension": ".py",
   "mimetype": "text/x-python",
   "name": "python",
   "nbconvert_exporter": "python",
   "pygments_lexer": "ipython2",
   "version": "2.7.6"
  },
  "pycharm": {
   "stem_cell": {
    "cell_type": "raw",
    "source": [],
    "metadata": {
     "collapsed": false
    }
   }
  }
 },
 "nbformat": 4,
 "nbformat_minor": 0
}